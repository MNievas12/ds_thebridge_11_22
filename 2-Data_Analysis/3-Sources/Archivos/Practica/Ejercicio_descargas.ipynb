{
 "cells": [
  {
   "cell_type": "markdown",
   "metadata": {},
   "source": [
    "## Ejercicio descargas"
   ]
  },
  {
   "cell_type": "markdown",
   "metadata": {},
   "source": [
    "Python es un lenguaje de propósito general, por lo que podemos desarrollar otros programas,\n",
    "aparte de ciencia de datos, que nos permitan montar dashboards, crear APIs o automatizar\n",
    "procesos. En este caso vas a automatizar un proceso, en el que tendrás que desarrollar un\n",
    "script que ordene todos los archivos de una carpeta, dependiendo de la extensión de los\n",
    "mismos.\n",
    "\n",
    "\n",
    "El objetivo es ordenar la típica carpeta de cajón desastre donde se nos acumulan archivos de\n",
    "todos los formatos como: imágenes, words, presentaciones, excels, ejecutables, zips, etc... Y\n",
    "que no vamos a ir viendo archivo a archivo, ordenándolos.... La solución suele ser eliminarlo\n",
    "todo. Vamos a intentar no tener que llegar a eso, ordenando los ficheros automáticamente en\n",
    "carpetas y revisar las que nos interesen. La típica carpeta donde aplicaríamos este programa es\n",
    "la de “Descargas”, donde se suelen acumular muchos archivos temporales.\n",
    "\n",
    "\n",
    "Por tanto, **el programa tiene que guardar los archivos de la carpeta “Descargas” (o cualquier\n",
    "otra donde acumules mucho archivo temporal) en los siguientes directorios dentro de la\n",
    "propia carpeta “Descargas”**:\n",
    "- Imagenes\n",
    "- Documentos\n",
    "- Software\n",
    "- Otros\n",
    "\n",
    "Cada vez que ejecutes el script, automáticamente se ordenarán todos los archivos en sus\n",
    "correspondientes carpetas.\n"
   ]
  },
  {
   "cell_type": "code",
   "execution_count": 1,
   "metadata": {},
   "outputs": [],
   "source": [
    "doc_types = ('.doc', '.docx', '.txt', '.pdf', '.xls', '.ppt', '.xlsx', '.pptx')\n",
    "img_types = ('.jpg', '.jpeg', '.png', '.svg', '.gif', '.tif', '.tiff')\n",
    "software_types = ('.exe', '.pkg', '.dmg')"
   ]
  },
  {
   "cell_type": "markdown",
   "metadata": {},
   "source": [
    "### 1. Crea un main.py con el programa principal y las funciones necesarias en funciones.py"
   ]
  },
  {
   "cell_type": "code",
   "execution_count": 2,
   "metadata": {},
   "outputs": [],
   "source": [
    "import os\n",
    "import shutil"
   ]
  },
  {
   "cell_type": "code",
   "execution_count": 3,
   "metadata": {},
   "outputs": [
    {
     "data": {
      "text/plain": [
       "'c:\\\\Users\\\\Miguel Angel\\\\Documents\\\\22_11_Bootcamp_DS\\\\ds_thebridge_11_22\\\\2-Data_Analysis\\\\3-Sources\\\\Archivos\\\\Practica'"
      ]
     },
     "execution_count": 3,
     "metadata": {},
     "output_type": "execute_result"
    }
   ],
   "source": [
    "os.getcwd()"
   ]
  },
  {
   "cell_type": "code",
   "execution_count": 4,
   "metadata": {},
   "outputs": [
    {
     "data": {
      "text/plain": [
       "['descargas_test', 'Ejercicio_descargas.ipynb']"
      ]
     },
     "execution_count": 4,
     "metadata": {},
     "output_type": "execute_result"
    }
   ],
   "source": [
    "os.listdir()"
   ]
  },
  {
   "cell_type": "code",
   "execution_count": 5,
   "metadata": {},
   "outputs": [],
   "source": [
    "os.chdir(os.getcwd() + '\\\\descargas_test')"
   ]
  },
  {
   "cell_type": "code",
   "execution_count": 6,
   "metadata": {},
   "outputs": [
    {
     "data": {
      "text/plain": [
       "'c:\\\\Users\\\\Miguel Angel\\\\Documents\\\\22_11_Bootcamp_DS\\\\ds_thebridge_11_22\\\\2-Data_Analysis\\\\3-Sources\\\\Archivos\\\\Practica\\\\descargas_test'"
      ]
     },
     "execution_count": 6,
     "metadata": {},
     "output_type": "execute_result"
    }
   ],
   "source": [
    "os.getcwd()"
   ]
  },
  {
   "cell_type": "code",
   "execution_count": 7,
   "metadata": {},
   "outputs": [
    {
     "data": {
      "text/plain": [
       "['FileZilla_3.61.0_win64_sponsored2-setup.exe',\n",
       " 'imagen_velocidad.png',\n",
       " 'inflation-gdp.csv',\n",
       " 'Intro_bootcamp_11_22_DS_FT.pdf',\n",
       " 'key_windows.pem']"
      ]
     },
     "execution_count": 7,
     "metadata": {},
     "output_type": "execute_result"
    }
   ],
   "source": [
    "os.listdir()"
   ]
  },
  {
   "cell_type": "code",
   "execution_count": 8,
   "metadata": {},
   "outputs": [
    {
     "name": "stdout",
     "output_type": "stream",
     "text": [
      "FileZilla_3.61.0_win64_sponsored2-setup.exe es un software\n",
      "imagen_velocidad.png es una imagen\n",
      "inflation-gdp.csv es otro tipo de extensión\n",
      "Intro_bootcamp_11_22_DS_FT.pdf es un documento\n",
      "key_windows.pem es otro tipo de extensión\n"
     ]
    }
   ],
   "source": [
    "for archivo in os.listdir():\n",
    "    if archivo.endswith(doc_types):\n",
    "        print(archivo, \"es un documento\")\n",
    "    elif archivo.endswith(img_types):\n",
    "        print(archivo, \"es una imagen\")\n",
    "    elif archivo.endswith(software_types):\n",
    "        print(archivo, \"es un software\")\n",
    "    else:\n",
    "        print(archivo, \"es otro tipo de extensión\")"
   ]
  },
  {
   "cell_type": "code",
   "execution_count": 20,
   "metadata": {},
   "outputs": [
    {
     "data": {
      "text/plain": [
       "'c:\\\\Users\\\\Miguel Angel\\\\Documents\\\\22_11_Bootcamp_DS\\\\ds_thebridge_11_22\\\\2-Data_Analysis\\\\3-Sources\\\\Archivos\\\\Practica\\\\descargas_test'"
      ]
     },
     "execution_count": 20,
     "metadata": {},
     "output_type": "execute_result"
    }
   ],
   "source": [
    "os.getcwd()"
   ]
  },
  {
   "cell_type": "code",
   "execution_count": 30,
   "metadata": {},
   "outputs": [],
   "source": [
    "os.makedirs(\"Imagenes\", exist_ok=True)\n",
    "os.makedirs(\"Documentos\", exist_ok=True)\n",
    "os.makedirs(\"Softwares\", exist_ok=True)\n",
    "os.makedirs(\"Otros\", exist_ok=True)"
   ]
  },
  {
   "cell_type": "code",
   "execution_count": 23,
   "metadata": {},
   "outputs": [
    {
     "data": {
      "text/plain": [
       "'c:\\\\Users\\\\Miguel Angel\\\\Documents\\\\22_11_Bootcamp_DS\\\\ds_thebridge_11_22\\\\2-Data_Analysis\\\\3-Sources\\\\Archivos\\\\Practica\\\\descargas_test\\\\Otros'"
      ]
     },
     "execution_count": 23,
     "metadata": {},
     "output_type": "execute_result"
    }
   ],
   "source": [
    "os.getcwd() + \"\\\\Otros\""
   ]
  },
  {
   "cell_type": "code",
   "execution_count": 24,
   "metadata": {},
   "outputs": [
    {
     "data": {
      "text/plain": [
       "'Otros\\\\key_windows.pem'"
      ]
     },
     "execution_count": 24,
     "metadata": {},
     "output_type": "execute_result"
    }
   ],
   "source": [
    "shutil.move(\"key_windows.pem\", \"Otros\")"
   ]
  },
  {
   "cell_type": "code",
   "execution_count": 39,
   "metadata": {},
   "outputs": [
    {
     "data": {
      "text/plain": [
       "'Imagenes'"
      ]
     },
     "execution_count": 39,
     "metadata": {},
     "output_type": "execute_result"
    }
   ],
   "source": [
    "os.listdir()[3]"
   ]
  },
  {
   "cell_type": "code",
   "execution_count": 40,
   "metadata": {},
   "outputs": [
    {
     "data": {
      "text/plain": [
       "True"
      ]
     },
     "execution_count": 40,
     "metadata": {},
     "output_type": "execute_result"
    }
   ],
   "source": [
    "os.path.isdir(os.listdir()[3])"
   ]
  },
  {
   "cell_type": "code",
   "execution_count": 46,
   "metadata": {},
   "outputs": [
    {
     "name": "stdout",
     "output_type": "stream",
     "text": [
      "Documentos es una carpeta\n",
      "FileZilla_3.61.0_win64_sponsored2-setup.exe es un software\n",
      "image.png es una imagen\n",
      "Imagenes es una carpeta\n",
      "inflation-gdp.csv es otro tipo de extensión\n",
      "Intro_bootcamp_11_22_DS_FT.pdf es un documento\n",
      "key_windows.pem es otro tipo de extensión\n",
      "Otros es una carpeta\n",
      "Softwares es una carpeta\n"
     ]
    }
   ],
   "source": [
    "for archivo in os.listdir():\n",
    "    if os.path.isdir(archivo):\n",
    "        print(archivo, \"es una carpeta\")\n",
    "    elif archivo.endswith(doc_types):\n",
    "        print(archivo, \"es un documento\")\n",
    "        shutil.move(archivo, \"Documentos\")\n",
    "    elif archivo.endswith(img_types):\n",
    "        print(archivo, \"es una imagen\")\n",
    "        shutil.move(archivo, \"Imagenes\")\n",
    "    elif archivo.endswith(software_types):\n",
    "        print(archivo, \"es un software\")\n",
    "        shutil.move(archivo, \"Softwares\")\n",
    "    else:\n",
    "        print(archivo, \"es otro tipo de extensión\")\n",
    "        shutil.move(archivo, \"Otros\")"
   ]
  },
  {
   "cell_type": "code",
   "execution_count": 45,
   "metadata": {},
   "outputs": [],
   "source": [
    "# result_generator = os.walk(os.getcwd())\n",
    "\n",
    "# files_result = [x for x in result_generator]\n",
    "# files_result"
   ]
  },
  {
   "cell_type": "code",
   "execution_count": 62,
   "metadata": {},
   "outputs": [],
   "source": [
    "def select_dir(carpeta):\n",
    "    dir_script = os.path.dirname(os.path.abspath(__file__))\n",
    "    ruta = os.path.join(dir_script, carpeta)\n",
    "    os.chdir(ruta)\n",
    "\n",
    "def create_dirs():\n",
    "    os.makedirs(\"Imagenes\", exist_ok=True)\n",
    "    os.makedirs(\"Documentos\", exist_ok=True)\n",
    "    os.makedirs(\"Softwares\", exist_ok=True)\n",
    "    os.makedirs(\"Otros\", exist_ok=True)\n",
    "\n",
    "def move_files():\n",
    "    for archivo in os.listdir():\n",
    "        if os.path.isdir(archivo):\n",
    "            print(archivo, \"es una carpeta\")\n",
    "        elif archivo.endswith(doc_types):\n",
    "            print(archivo, \"es un documento\")\n",
    "            shutil.move(archivo, \"Documentos\")\n",
    "        elif archivo.endswith(img_types):\n",
    "            print(archivo, \"es una imagen\")\n",
    "            shutil.move(archivo, \"Imagenes\")\n",
    "        elif archivo.endswith(software_types):\n",
    "            print(archivo, \"es un software\")\n",
    "            shutil.move(archivo, \"Softwares\")\n",
    "        else:\n",
    "            print(archivo, \"es otro tipo de extensión\")\n",
    "            shutil.move(archivo, \"Otros\")"
   ]
  },
  {
   "cell_type": "code",
   "execution_count": 64,
   "metadata": {},
   "outputs": [],
   "source": [
    "# select_dir(\"descargas_test\")\n",
    "# create_dirs()\n",
    "# move_files()"
   ]
  },
  {
   "cell_type": "markdown",
   "metadata": {},
   "source": [
    "### 2. Crea un main_class.py con el programa principal y su clase \"Fichero\" en clase.py"
   ]
  },
  {
   "cell_type": "code",
   "execution_count": 90,
   "metadata": {},
   "outputs": [],
   "source": [
    "class Fichero:\n",
    "\n",
    "    def __init__(self, carpeta, extensions, carpeta_ordenar, ruta=None):\n",
    "        self.carpeta = carpeta\n",
    "        self.extensions = extensions\n",
    "        self.carpeta_ordenar = carpeta_ordenar\n",
    "        self.ruta = ruta\n",
    "        self.select_dir()\n",
    "        self.create_dir()\n",
    "        self.move_file()\n",
    "\n",
    "    def select_dir(self):\n",
    "        if self.ruta:\n",
    "            self.ruta = os.path.join(self.ruta, self.carpeta_ordenar)\n",
    "        else:\n",
    "            self.ruta = os.path.join(os.path.dirname(os.path.abspath(__file__)), self.carpeta_ordenar)\n",
    "        os.chdir(self.ruta)\n",
    "\n",
    "    def create_dir(self):\n",
    "        os.makedirs(self.carpeta, exist_ok=True)\n",
    "\n",
    "    def move_file(self):\n",
    "        for archivo in os.listdir():\n",
    "            if os.path.isdir(archivo):\n",
    "                print(archivo, \"es una carpeta\")\n",
    "            elif self.extensions==None:\n",
    "                shutil.move(archivo, self.carpeta)\n",
    "            elif archivo.endswith(self.extensions):\n",
    "                shutil.move(archivo, self.carpeta)\n"
   ]
  },
  {
   "cell_type": "code",
   "execution_count": 91,
   "metadata": {},
   "outputs": [],
   "source": [
    "notebooks_types = (\".ipynb\",)"
   ]
  },
  {
   "cell_type": "code",
   "execution_count": 92,
   "metadata": {},
   "outputs": [
    {
     "name": "stdout",
     "output_type": "stream",
     "text": [
      "Documentos es una carpeta\n",
      "Imagenes es una carpeta\n",
      "Notebook es una carpeta\n",
      "Otros es una carpeta\n",
      "Software es una carpeta\n",
      "Documentos es una carpeta\n",
      "Imagenes es una carpeta\n",
      "Notebook es una carpeta\n",
      "Otros es una carpeta\n",
      "Software es una carpeta\n",
      "Documentos es una carpeta\n",
      "Imagenes es una carpeta\n",
      "Notebook es una carpeta\n",
      "Otros es una carpeta\n",
      "Software es una carpeta\n",
      "Documentos es una carpeta\n",
      "Imagenes es una carpeta\n",
      "Notebook es una carpeta\n",
      "Otros es una carpeta\n",
      "Software es una carpeta\n",
      "Documentos es una carpeta\n",
      "Imagenes es una carpeta\n",
      "Notebook es una carpeta\n",
      "Otros es una carpeta\n",
      "Software es una carpeta\n"
     ]
    }
   ],
   "source": [
    "ruta = \"c:\\\\Users\\\\Miguel Angel\\\\Documents\\\\22_11_Bootcamp_DS\\\\ds_thebridge_11_22\\\\2-Data_Analysis\\\\3-Sources\\\\Archivos\\\\Practica\"\n",
    "\n",
    "documentos = Fichero(\"Documentos\", doc_types, \"descargas_test\", ruta)\n",
    "imagenes = Fichero(\"Imagenes\", img_types, \"descargas_test\", ruta)\n",
    "softwares = Fichero(\"Software\", software_types, \"descargas_test\", ruta)\n",
    "otros = Fichero(\"Otros\", None , \"descargas_test\", ruta)\n",
    "notebooks = Fichero(\"Notebook\", notebooks_types , \"descargas_test\", ruta)"
   ]
  },
  {
   "cell_type": "code",
   "execution_count": null,
   "metadata": {},
   "outputs": [],
   "source": []
  }
 ],
 "metadata": {
  "kernelspec": {
   "display_name": "Python 3.7.4 64-bit",
   "language": "python",
   "name": "python3"
  },
  "language_info": {
   "codemirror_mode": {
    "name": "ipython",
    "version": 3
   },
   "file_extension": ".py",
   "mimetype": "text/x-python",
   "name": "python",
   "nbconvert_exporter": "python",
   "pygments_lexer": "ipython3",
   "version": "3.7.4"
  },
  "orig_nbformat": 4,
  "vscode": {
   "interpreter": {
    "hash": "90139cb9a825bf3d63f6f6704e828dbd1ff7edbd4d0c6e906a71235d6efc74af"
   }
  }
 },
 "nbformat": 4,
 "nbformat_minor": 2
}
