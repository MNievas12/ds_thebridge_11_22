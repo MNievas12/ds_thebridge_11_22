{
 "cells": [
  {
   "cell_type": "markdown",
   "metadata": {},
   "source": [
    "![imagen](./img/ejercicios.png)"
   ]
  },
  {
   "cell_type": "markdown",
   "metadata": {},
   "source": [
    "# Ejercicios Python Basics I"
   ]
  },
  {
   "cell_type": "markdown",
   "metadata": {},
   "source": [
    "## Ejercicio 1\n",
    "1. Escribe el nombre de la calle de tu domicilio en una variable\n",
    "2. Escribe el numero de la calle en otra\n",
    "3. Ciudad en una tercera\n",
    "4. Codigo postal en la cuarta variable\n",
    "5. Crea una quinta variable que concatene todas ellas\n",
    "6. Imprímela por pantalla\n",
    "7. Imprime las 4 variables concatenadas por pantalla sin utilizar la quinta variable"
   ]
  },
  {
   "cell_type": "code",
   "execution_count": 9,
   "metadata": {},
   "outputs": [
    {
     "name": "stdout",
     "output_type": "stream",
     "text": [
      "Recoletos 15 Madrid 28004\n",
      "Recoletos 15 Madrid 28004\n",
      "Mi dirección es Recoletos 15 Madrid 28004\n"
     ]
    }
   ],
   "source": [
    "calle = \"Recoletos\"\n",
    "num = 15\n",
    "ciudad = \"Madrid\"\n",
    "cp = 28004\n",
    "\n",
    "\n",
    "total = calle + \" \" + str(num) + \" \" + ciudad + \" \" +  str(cp)\n",
    "print(total)\n",
    "\n",
    "print(calle, num, ciudad, cp)\n",
    "print(f\"Mi dirección es {calle} {num} {ciudad} {cp}\")"
   ]
  },
  {
   "cell_type": "code",
   "execution_count": 8,
   "metadata": {},
   "outputs": [
    {
     "name": "stdout",
     "output_type": "stream",
     "text": [
      "<class 'str'>\n"
     ]
    }
   ],
   "source": [
    "print(type(\"num\"))\n",
    "# print(type(num))"
   ]
  },
  {
   "cell_type": "markdown",
   "metadata": {},
   "source": [
    "## Ejercicio 2\n",
    "Repite el ejercicio 1, pero pidiendo estos datos al usuario en vez de declararlos, imprimiendo a continuación la dirección completa"
   ]
  },
  {
   "cell_type": "code",
   "execution_count": 10,
   "metadata": {},
   "outputs": [
    {
     "name": "stdout",
     "output_type": "stream",
     "text": [
      "Calle del Prim 11 Madrid 28004\n"
     ]
    }
   ],
   "source": [
    "calle = input(\"Introduzca su calle\")\n",
    "num = input(\"Introduzca su número de calle\")\n",
    "ciudad = input(\"Introduzca su ciudad\")\n",
    "cp = input(\"Introduzca su código postal\")\n",
    "\n",
    "total = calle + \" \" + num + \" \" + ciudad + \" \" + cp\n",
    "print(total)"
   ]
  },
  {
   "cell_type": "markdown",
   "metadata": {},
   "source": [
    "## Ejercicio 3\n",
    "¿Qué variables están mal escritas y por qué? Realiza primero tu hipótesis y luego ejecuta las variables para comprobarlo. En ese orden :)\n",
    "\n",
    "\n",
    "1. mi_variable = \"Economía\"\n",
    "2. otra_var = \"Ejercicio\n",
    "3. True = \"Ejercicio\"\n",
    "4. mi variab1e = \"Alpha\"\n",
    "5. import = 40\n",
    "6. 81mi_variable = \"Agua\"\n",
    "7. mi_variable10 = 6"
   ]
  },
  {
   "cell_type": "markdown",
   "metadata": {},
   "source": [
    "1. Correcto\n",
    "2. Mal, falta cerrar string\n",
    "3. Palabra reservada True\n",
    "4. Espacio en el nombre de la variable\n",
    "5. import = 40 Mal porque es una palabra reservada\n",
    "6. Nombre variable no empieza por número\n",
    "7. Ok"
   ]
  },
  {
   "cell_type": "code",
   "execution_count": 11,
   "metadata": {},
   "outputs": [
    {
     "ename": "SyntaxError",
     "evalue": "EOL while scanning string literal (Temp/ipykernel_8936/2156886956.py, line 2)",
     "output_type": "error",
     "traceback": [
      "\u001b[1;36m  File \u001b[1;32m\"C:\\Users\\MIGUEL~1\\AppData\\Local\\Temp/ipykernel_8936/2156886956.py\"\u001b[1;36m, line \u001b[1;32m2\u001b[0m\n\u001b[1;33m    print(otra_var = \"Ejercicio)\u001b[0m\n\u001b[1;37m                                ^\u001b[0m\n\u001b[1;31mSyntaxError\u001b[0m\u001b[1;31m:\u001b[0m EOL while scanning string literal\n"
     ]
    }
   ],
   "source": [
    "print(mi_variable = \"Economía\")\n",
    "print(otra_var = \"Ejercicio)\n"
   ]
  },
  {
   "cell_type": "code",
   "execution_count": 12,
   "metadata": {},
   "outputs": [
    {
     "ename": "SyntaxError",
     "evalue": "can't assign to keyword (Temp/ipykernel_8936/2807537446.py, line 1)",
     "output_type": "error",
     "traceback": [
      "\u001b[1;36m  File \u001b[1;32m\"C:\\Users\\MIGUEL~1\\AppData\\Local\\Temp/ipykernel_8936/2807537446.py\"\u001b[1;36m, line \u001b[1;32m1\u001b[0m\n\u001b[1;33m    True = \"Ejercicio\"\u001b[0m\n\u001b[1;37m                      ^\u001b[0m\n\u001b[1;31mSyntaxError\u001b[0m\u001b[1;31m:\u001b[0m can't assign to keyword\n"
     ]
    }
   ],
   "source": [
    "True = \"Ejercicio\""
   ]
  },
  {
   "cell_type": "code",
   "execution_count": 13,
   "metadata": {},
   "outputs": [
    {
     "ename": "SyntaxError",
     "evalue": "invalid syntax (Temp/ipykernel_8936/568631341.py, line 1)",
     "output_type": "error",
     "traceback": [
      "\u001b[1;36m  File \u001b[1;32m\"C:\\Users\\MIGUEL~1\\AppData\\Local\\Temp/ipykernel_8936/568631341.py\"\u001b[1;36m, line \u001b[1;32m1\u001b[0m\n\u001b[1;33m    mi variab1e = \"Alpha\"\u001b[0m\n\u001b[1;37m              ^\u001b[0m\n\u001b[1;31mSyntaxError\u001b[0m\u001b[1;31m:\u001b[0m invalid syntax\n"
     ]
    }
   ],
   "source": [
    "mi variab1e = \"Alpha\""
   ]
  },
  {
   "cell_type": "code",
   "execution_count": 14,
   "metadata": {},
   "outputs": [
    {
     "ename": "SyntaxError",
     "evalue": "invalid syntax (Temp/ipykernel_8936/3077410335.py, line 1)",
     "output_type": "error",
     "traceback": [
      "\u001b[1;36m  File \u001b[1;32m\"C:\\Users\\MIGUEL~1\\AppData\\Local\\Temp/ipykernel_8936/3077410335.py\"\u001b[1;36m, line \u001b[1;32m1\u001b[0m\n\u001b[1;33m    81mi_variable = \"Agua\"\u001b[0m\n\u001b[1;37m                ^\u001b[0m\n\u001b[1;31mSyntaxError\u001b[0m\u001b[1;31m:\u001b[0m invalid syntax\n"
     ]
    }
   ],
   "source": [
    "81mi_variable = \"Agua\""
   ]
  },
  {
   "cell_type": "markdown",
   "metadata": {},
   "source": [
    "## Ejercicio 4\n",
    "Realiza un conversor de grados Celsius a Fahrenheit. El conversor tiene que recibir el input del usuario y devolver la conversión.\n",
    "\n",
    "La conversión de grados sigue la siguiente fórmula: F = C × (9 / 5) + 32 "
   ]
  },
  {
   "cell_type": "code",
   "execution_count": 25,
   "metadata": {},
   "outputs": [
    {
     "name": "stdout",
     "output_type": "stream",
     "text": [
      "Los grados farhenheit son: 68.36\n"
     ]
    }
   ],
   "source": [
    "celsius = float(input(\"Introduzca la temperatura en grados celsius\"))\n",
    "\n",
    "f = celsius * (9/5) + 32\n",
    "print(\"Los grados farhenheit son:\", f)\n"
   ]
  },
  {
   "cell_type": "markdown",
   "metadata": {},
   "source": [
    "## Ejercicio 5\n",
    "Comenta  el Ejercicio 4. Pon un comentario multilinea y haz comentarios de cada linea de código"
   ]
  },
  {
   "cell_type": "code",
   "execution_count": null,
   "metadata": {},
   "outputs": [],
   "source": [
    "\"\"\"\n",
    "Calculadora que convierte grados Celsius a grados Fahrenhet\n",
    "Input:\n",
    "    Celsius\n",
    "Output:\n",
    "    Fahrenheit\n",
    "\"\"\"\n",
    "\n",
    "# Recoge los celsius del usuario y lo transforma a float\n",
    "celsius = float(input(\"Introduzca la temperatura en grados celsius\")) \n",
    "\n",
    "# Calcula los grados Fahrenheit a partir de la fórmula\n",
    "f = celsius * (9/5) + 32\n",
    "\n",
    "# Imprimer por pantalla los grados fahrenheit\n",
    "print(\"Los grados farhenheit son:\", f)"
   ]
  },
  {
   "cell_type": "code",
   "execution_count": 60,
   "metadata": {},
   "outputs": [],
   "source": [
    "def calcular_f():\n",
    "    \"\"\"\n",
    "    Calculadora que convierte grados Celsius a grados Fahrenhet\n",
    "    \n",
    "    Input:\n",
    "        Celsius\n",
    "    Output:\n",
    "        Fahrenheit\n",
    "    \"\"\"\n",
    "    # Recoge los celsius del usuario y lo transforma a float y reemplaza las comas por puntos\n",
    "    celsius = float(input(\"Introduzca la temperatura en grados celsius\").replace(',','.')) \n",
    "\n",
    "    # Calcula los grados Fahrenheit a partir de la fórmula\n",
    "    f = celsius * (9/5) + 32\n",
    "\n",
    "    # Imprimer por pantalla los grados fahrenheit\n",
    "    print(\"Los grados farhenheit son:\", f)\n",
    "    return f"
   ]
  },
  {
   "cell_type": "code",
   "execution_count": 59,
   "metadata": {},
   "outputs": [
    {
     "name": "stdout",
     "output_type": "stream",
     "text": [
      "Los grados farhenheit son: 51.44\n"
     ]
    },
    {
     "data": {
      "text/plain": [
       "51.44"
      ]
     },
     "execution_count": 59,
     "metadata": {},
     "output_type": "execute_result"
    }
   ],
   "source": [
    "calcular_f()"
   ]
  },
  {
   "cell_type": "code",
   "execution_count": 34,
   "metadata": {},
   "outputs": [
    {
     "name": "stdout",
     "output_type": "stream",
     "text": [
      "Los grados farhenheit son: 68.0\n"
     ]
    }
   ],
   "source": [
    "calcular_f()"
   ]
  },
  {
   "cell_type": "code",
   "execution_count": 46,
   "metadata": {},
   "outputs": [
    {
     "name": "stdout",
     "output_type": "stream",
     "text": [
      "Los grados farhenheit son: 50.0\n",
      "50.0\n"
     ]
    }
   ],
   "source": [
    "print(calcular_f())"
   ]
  },
  {
   "cell_type": "code",
   "execution_count": null,
   "metadata": {},
   "outputs": [],
   "source": []
  }
 ],
 "metadata": {
  "kernelspec": {
   "display_name": "Python 3.7.4 64-bit",
   "language": "python",
   "name": "python3"
  },
  "language_info": {
   "codemirror_mode": {
    "name": "ipython",
    "version": 3
   },
   "file_extension": ".py",
   "mimetype": "text/x-python",
   "name": "python",
   "nbconvert_exporter": "python",
   "pygments_lexer": "ipython3",
   "version": "3.7.4"
  },
  "nbTranslate": {
   "displayLangs": [
    "*"
   ],
   "hotkey": "alt-t",
   "langInMainMenu": true,
   "sourceLang": "en",
   "targetLang": "fr",
   "useGoogleTranslate": true
  },
  "varInspector": {
   "cols": {
    "lenName": 16,
    "lenType": 16,
    "lenVar": 40
   },
   "kernels_config": {
    "python": {
     "delete_cmd_postfix": "",
     "delete_cmd_prefix": "del ",
     "library": "var_list.py",
     "varRefreshCmd": "print(var_dic_list())"
    },
    "r": {
     "delete_cmd_postfix": ") ",
     "delete_cmd_prefix": "rm(",
     "library": "var_list.r",
     "varRefreshCmd": "cat(var_dic_list()) "
    }
   },
   "types_to_exclude": [
    "module",
    "function",
    "builtin_function_or_method",
    "instance",
    "_Feature"
   ],
   "window_display": false
  },
  "vscode": {
   "interpreter": {
    "hash": "90139cb9a825bf3d63f6f6704e828dbd1ff7edbd4d0c6e906a71235d6efc74af"
   }
  }
 },
 "nbformat": 4,
 "nbformat_minor": 4
}
