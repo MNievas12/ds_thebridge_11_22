{
 "cells": [
  {
   "cell_type": "markdown",
   "metadata": {},
   "source": [
    "![imagen](./img/ejercicios.png)"
   ]
  },
  {
   "cell_type": "markdown",
   "metadata": {},
   "source": [
    "# Ejercicios funciones\n",
    "## Ejercicio 1\n",
    "Escribe una función que convierta números del 1 al 7 en nombres de los dias de la semana. La función constará de un único argumento numérico y una salida de tipo string"
   ]
  },
  {
   "cell_type": "code",
   "execution_count": 3,
   "metadata": {},
   "outputs": [
    {
     "name": "stdout",
     "output_type": "stream",
     "text": [
      "No es un día de la semana\n"
     ]
    }
   ],
   "source": [
    "dia = 20\n",
    "if dia == 1:\n",
    "    output = \"Lunes\"\n",
    "elif dia == 2:\n",
    "    output = \"Martes\"\n",
    "elif dia == 3:\n",
    "    output = \"Miércoles\"\n",
    "elif dia == 4:\n",
    "    output = \"Jueves\"\n",
    "elif dia == 5:\n",
    "    output = \"Viernes\"\n",
    "elif dia == 6:\n",
    "    output = \"Sábado\"\n",
    "elif dia == 7:\n",
    "    output = \"Domingo\"\n",
    "else:\n",
    "    output = \"No es un día de la semana\"\n",
    "\n",
    "print(output)"
   ]
  },
  {
   "cell_type": "code",
   "execution_count": 33,
   "metadata": {},
   "outputs": [],
   "source": [
    "def ejercicio_1(dia:int):\n",
    "\n",
    "    if dia == 1:\n",
    "        output = \"Lunes\"\n",
    "    elif dia == 2:\n",
    "        output = \"Martes\"\n",
    "    elif dia == 3:\n",
    "        output = \"Miércoles\"\n",
    "    elif dia == 4:\n",
    "        output = \"Jueves\"\n",
    "    elif dia == 5:\n",
    "        output = \"Viernes\"\n",
    "    elif dia == 6:\n",
    "        output = \"Sábado\"\n",
    "    elif dia == 7:\n",
    "        output = \"Domingo\"\n",
    "    else:\n",
    "        output = \"No es un día de la semana\"\n",
    "\n",
    "    return output"
   ]
  },
  {
   "cell_type": "code",
   "execution_count": 34,
   "metadata": {},
   "outputs": [
    {
     "name": "stdout",
     "output_type": "stream",
     "text": [
      "Viernes\n"
     ]
    }
   ],
   "source": [
    "print(ejercicio_1(5))"
   ]
  },
  {
   "cell_type": "code",
   "execution_count": 27,
   "metadata": {},
   "outputs": [],
   "source": [
    "def ejercicio_1_2(dia):\n",
    "    semana = {1:\"Lunes\", 2:\"Martes\", 3:\"Miércoles\"}\n",
    "\n",
    "    return semana.get(dia, \"No es un día de la semana\")"
   ]
  },
  {
   "cell_type": "code",
   "execution_count": 28,
   "metadata": {},
   "outputs": [
    {
     "data": {
      "text/plain": [
       "'Martes'"
      ]
     },
     "execution_count": 28,
     "metadata": {},
     "output_type": "execute_result"
    }
   ],
   "source": [
    "ejercicio_1_2(2)"
   ]
  },
  {
   "cell_type": "code",
   "execution_count": 8,
   "metadata": {},
   "outputs": [
    {
     "name": "stdout",
     "output_type": "stream",
     "text": [
      "No es un día de la semana\n",
      "Miércoles\n",
      "Lunes\n",
      "Martes\n",
      "Lunes\n",
      "No es un día de la semana\n",
      "Miércoles\n",
      "Viernes\n",
      "Domingo\n",
      "Viernes\n"
     ]
    }
   ],
   "source": [
    "# import random\n",
    "\n",
    "# contador = 0\n",
    "# while contador < 10:\n",
    "#     num = random.randint(0,7)\n",
    "#     print(ejercicio_1(num))\n",
    "#     contador = contador + 1"
   ]
  },
  {
   "cell_type": "markdown",
   "metadata": {},
   "source": [
    "## Ejercicio 2\n",
    "En el ejercicio 8 de flujos de control, creábamos una pirámide invertida de números desde el 5. Crea una función que replique el comportamiento de la pirámide, y utiliza un único parámetro de entrada de la función para determinar el número de filas de la pirámide."
   ]
  },
  {
   "cell_type": "code",
   "execution_count": 40,
   "metadata": {},
   "outputs": [
    {
     "name": "stdout",
     "output_type": "stream",
     "text": [
      "5 4 3 2 1\n",
      "4 3 2 1\n",
      "3 2 1\n",
      "2 1\n",
      "1\n"
     ]
    }
   ],
   "source": [
    "n = 5\n",
    "lista_8 = list(range(n,0,-1))\n",
    "for elem in lista_8.copy():\n",
    "    print(*lista_8)\n",
    "    lista_8.pop(0)"
   ]
  },
  {
   "cell_type": "code",
   "execution_count": 41,
   "metadata": {},
   "outputs": [],
   "source": [
    "def ejercicio_2(n):\n",
    "\n",
    "    lista_8 = list(range(n,0,-1))\n",
    "    for elem in lista_8.copy():\n",
    "        print(*lista_8)\n",
    "        lista_8.pop(0)"
   ]
  },
  {
   "cell_type": "code",
   "execution_count": 44,
   "metadata": {},
   "outputs": [
    {
     "name": "stdout",
     "output_type": "stream",
     "text": [
      "7 6 5 4 3 2 1\n",
      "6 5 4 3 2 1\n",
      "5 4 3 2 1\n",
      "4 3 2 1\n",
      "3 2 1\n",
      "2 1\n",
      "1\n"
     ]
    }
   ],
   "source": [
    "ejercicio_2(7)"
   ]
  },
  {
   "cell_type": "markdown",
   "metadata": {},
   "source": [
    "## Ejercicio 3\n",
    "Escribe una función que compare dos números. La función tiene dos argumentos y hay tres salidas posibles: que sean iguales, que el primero sea  mayor que el segundo, o que el segundo sea mayor que el primero"
   ]
  },
  {
   "cell_type": "code",
   "execution_count": 48,
   "metadata": {},
   "outputs": [
    {
     "name": "stdout",
     "output_type": "stream",
     "text": [
      "El 3 es mayor que 2\n"
     ]
    }
   ],
   "source": [
    "num_1 = 3\n",
    "num_2 = 2\n",
    "\n",
    "if num_1 == num_2:\n",
    "    msg = \"Son iguales\"\n",
    "elif num_1 > num_2:\n",
    "    msg = \"El \" + str(num_1) + \" es mayor que \" + str(num_2)\n",
    "else:\n",
    "    msg = \"El \" + str(num_2) + \" es mayor que \" + str(num_1)\n",
    "\n",
    "print(msg)"
   ]
  },
  {
   "cell_type": "code",
   "execution_count": 49,
   "metadata": {},
   "outputs": [],
   "source": [
    "def ejercicio_3(num_1, num_2):\n",
    "    if num_1 == num_2:\n",
    "        msg = \"Son iguales\"\n",
    "    elif num_1 > num_2:\n",
    "        msg = \"El \" + str(num_1) + \" es mayor que \" + str(num_2)\n",
    "    else:\n",
    "        msg = \"El \" + str(num_2) + \" es mayor que \" + str(num_1)\n",
    "\n",
    "    return msg"
   ]
  },
  {
   "cell_type": "code",
   "execution_count": 52,
   "metadata": {},
   "outputs": [
    {
     "name": "stdout",
     "output_type": "stream",
     "text": [
      "El 6 es mayor que 2\n",
      "Son iguales\n",
      "El 3 es mayor que 2\n"
     ]
    }
   ],
   "source": [
    "print(ejercicio_3(2,6))\n",
    "print(ejercicio_3(1,1))\n",
    "print(ejercicio_3(3,2))"
   ]
  },
  {
   "cell_type": "markdown",
   "metadata": {},
   "source": [
    "## Ejercicio 4\n",
    "Escribe una función que sea un contador de letras. En el primer argumento tienes que introducir un texto, y el segundo que sea una letra que contar. La función tiene que devolver un entero con el número de veces que aparece esa letra, tanto mayuscula, como minúscula"
   ]
  },
  {
   "cell_type": "code",
   "execution_count": 63,
   "metadata": {},
   "outputs": [],
   "source": [
    "def ejercicio_4(texto, letra):\n",
    "\n",
    "    return texto.lower().count(letra.lower())"
   ]
  },
  {
   "cell_type": "code",
   "execution_count": 65,
   "metadata": {},
   "outputs": [
    {
     "data": {
      "text/plain": [
       "1"
      ]
     },
     "execution_count": 65,
     "metadata": {},
     "output_type": "execute_result"
    }
   ],
   "source": [
    "ejercicio_4(\"Hola mundo\", \"H\")"
   ]
  },
  {
   "cell_type": "markdown",
   "metadata": {},
   "source": [
    "## Ejercicio 5\n",
    "Escribe una función que tenga un único argumento, un string. La salida de la función tiene que ser un diccionario con el conteo de todas las letras de ese string, siendo la clave la letra y el valor el conteo."
   ]
  },
  {
   "cell_type": "code",
   "execution_count": 67,
   "metadata": {},
   "outputs": [
    {
     "name": "stdout",
     "output_type": "stream",
     "text": [
      "{'e': 5, 'n': 2, ' ': 5, 'l': 1, 'b': 1, 'o': 2, 't': 2, 'c': 3, 'a': 3, 'm': 1, 'p': 1, 'd': 2, 's': 1, 'i': 1}\n"
     ]
    }
   ],
   "source": [
    "characters = {}\n",
    "\n",
    "texto = \"En el bootcamp de Data Science\"\n",
    "\n",
    "for char in texto.lower():\n",
    "    if char not in characters:\n",
    "        characters[char] = 1\n",
    "    else:\n",
    "        characters[char] = characters[char] + 1\n",
    "\n",
    "print(characters)"
   ]
  },
  {
   "cell_type": "code",
   "execution_count": 68,
   "metadata": {},
   "outputs": [
    {
     "name": "stdout",
     "output_type": "stream",
     "text": [
      "{'e': 5, 'n': 2, ' ': 5, 'l': 1, 'b': 1, 'o': 2, 't': 2, 'c': 3, 'a': 3, 'm': 1, 'p': 1, 'd': 2, 's': 1, 'i': 1}\n"
     ]
    }
   ],
   "source": [
    "characters = {}\n",
    "\n",
    "texto = \"En el bootcamp de Data Science\"\n",
    "\n",
    "for char in texto.lower():\n",
    "    characters[char] = texto.lower().count(char)\n",
    "\n",
    "print(characters)"
   ]
  },
  {
   "cell_type": "code",
   "execution_count": 77,
   "metadata": {},
   "outputs": [],
   "source": [
    "def ejercicio_5(texto):\n",
    "    texto = texto.lower()\n",
    "    texto = texto.replace('á','a')\n",
    "    texto = texto.replace('é','e')\n",
    "    texto = texto.replace('í','i')\n",
    "    texto = texto.replace('ó','o')\n",
    "    texto = texto.replace('ú','u')\n",
    "    characters = {}\n",
    "    for char in texto:\n",
    "        characters[char] = texto.count(char)\n",
    "    return characters"
   ]
  },
  {
   "cell_type": "code",
   "execution_count": 78,
   "metadata": {},
   "outputs": [
    {
     "name": "stdout",
     "output_type": "stream",
     "text": [
      "{'h': 1, 'o': 1, 'l': 1, 'a': 1}\n",
      "{'h': 1, 'o': 6, 'l': 1, 'a': 2, ' ': 4, 'm': 2, 'u': 1, 'n': 1, 'd': 2, ',': 1, 'c': 1, 'v': 1, 't': 1}\n"
     ]
    }
   ],
   "source": [
    "print(ejercicio_5(\"Hola\"))\n",
    "print(ejercicio_5(\"Hola mundo, cómo va todo\"))"
   ]
  },
  {
   "cell_type": "markdown",
   "metadata": {},
   "source": [
    "## Ejercicio 6\n",
    "Escribir una función que añada o elimine elementos en una lista. La función necesita los siguientes argumentos:\n",
    "* lista: la lista donde se añadirán o eliminarán los elementos\n",
    "* comando: \"add\" o \"remove\"\n",
    "* elemento: Por defecto es None.\n",
    "\n",
    "Tendrá como salida la lista"
   ]
  },
  {
   "cell_type": "code",
   "execution_count": 82,
   "metadata": {},
   "outputs": [
    {
     "name": "stdout",
     "output_type": "stream",
     "text": [
      "[1, 2, 3, None]\n"
     ]
    }
   ],
   "source": [
    "lista = [1,2,3]\n",
    "comando = \"add\"\n",
    "elemento = None\n",
    "\n",
    "if comando == \"add\":\n",
    "    lista.append(elemento)\n",
    "else:\n",
    "    lista.remove(elemento)\n",
    "\n",
    "print(lista)"
   ]
  },
  {
   "cell_type": "code",
   "execution_count": 117,
   "metadata": {},
   "outputs": [],
   "source": [
    "def ejercicio_6(lista, comando=\"add\", elemento=None):\n",
    "    '''\n",
    "    Añade o elimina un elemento de una lista mediante los comandos de \"add\" y \"remove\"\n",
    "    '''\n",
    "    if comando == \"add\":\n",
    "        lista.append(elemento)\n",
    "    elif comando == \"remove\":\n",
    "        try:\n",
    "            lista.remove(elemento)\n",
    "        except:\n",
    "            print(\"No existe ese elemento para borrar\")\n",
    "    else:\n",
    "        print(\"Ese comando no existe\")\n",
    "    return lista"
   ]
  },
  {
   "cell_type": "code",
   "execution_count": 118,
   "metadata": {},
   "outputs": [
    {
     "name": "stdout",
     "output_type": "stream",
     "text": [
      "[3, 6, 2, None]\n"
     ]
    }
   ],
   "source": [
    "print(ejercicio_6([3,6,2],\"add\"))"
   ]
  },
  {
   "cell_type": "code",
   "execution_count": 94,
   "metadata": {},
   "outputs": [
    {
     "name": "stdout",
     "output_type": "stream",
     "text": [
      "\n",
      "    Añade o elimina un elemento de una lista mediante los comandos de \"add\" y \"remove\"\n",
      "    \n"
     ]
    }
   ],
   "source": [
    "print(ejercicio_6.__doc__)"
   ]
  },
  {
   "cell_type": "markdown",
   "metadata": {},
   "source": [
    "## Ejercicio 7\n",
    "Crea una función que reciba un número arbitrario de palabras, y devuelva una frase completa, separando las palabras con espacios."
   ]
  },
  {
   "cell_type": "code",
   "execution_count": 135,
   "metadata": {},
   "outputs": [],
   "source": [
    "def ejercicio_7(*args):\n",
    "    return \" \".join(args)\n"
   ]
  },
  {
   "cell_type": "code",
   "execution_count": 136,
   "metadata": {},
   "outputs": [
    {
     "name": "stdout",
     "output_type": "stream",
     "text": [
      "Hola mundo\n"
     ]
    }
   ],
   "source": [
    "print(\"Hola\", \"mundo\")"
   ]
  },
  {
   "cell_type": "code",
   "execution_count": 137,
   "metadata": {},
   "outputs": [
    {
     "name": "stdout",
     "output_type": "stream",
     "text": [
      "Hola mundo\n",
      "Hola mundo en el bootcamp\n",
      "Hola\n"
     ]
    }
   ],
   "source": [
    "print(ejercicio_7(\"Hola\",\"mundo\"))\n",
    "print(ejercicio_7(\"Hola\",\"mundo\", \"en\", \"el\", \"bootcamp\"))\n",
    "print(ejercicio_7(\"Hola\"))"
   ]
  },
  {
   "cell_type": "markdown",
   "metadata": {},
   "source": [
    "## Ejercicio 8\n",
    "Escribe un programa que obtenga el enésimo número de la [serie de Fibonacci](https://es.wikipedia.org/wiki/Sucesi%C3%B3n_de_Fibonacci). Tienes que crear una función recursiva con un único argumento.\n",
    "\n",
    "```Python\n",
    "fibonacci(2) = 1\n",
    "fibonacci(4) = 3\n",
    "fibonacci(5) = 5\n",
    "fibonacci(8) = 21\n",
    "```"
   ]
  },
  {
   "cell_type": "code",
   "execution_count": null,
   "metadata": {},
   "outputs": [],
   "source": [
    "# fibonacci (2) = fibonacci(1) + fibonacci(0)\n",
    "# fibonacci(n) = fibonacci(n-1) + fibonacci(n-2)"
   ]
  },
  {
   "cell_type": "code",
   "execution_count": 1,
   "metadata": {},
   "outputs": [],
   "source": [
    "def fibonacci(n):\n",
    "    if n == 0:\n",
    "        return n\n",
    "    if n == 1:\n",
    "        return n\n",
    "    return fibonacci(n-1) + fibonacci(n-2)"
   ]
  },
  {
   "cell_type": "code",
   "execution_count": 2,
   "metadata": {},
   "outputs": [
    {
     "data": {
      "text/plain": [
       "21"
      ]
     },
     "execution_count": 2,
     "metadata": {},
     "output_type": "execute_result"
    }
   ],
   "source": [
    "fibonacci(8)"
   ]
  },
  {
   "cell_type": "code",
   "execution_count": 3,
   "metadata": {},
   "outputs": [
    {
     "data": {
      "text/plain": [
       "2"
      ]
     },
     "execution_count": 3,
     "metadata": {},
     "output_type": "execute_result"
    }
   ],
   "source": [
    "fibonacci(3)\n",
    "fibonacci(2) + fibonacci(1)\n",
    "fibonacci(1) + fibonacci (0) + fibonacci(1)\n",
    "1 + 0 + 1\n",
    "2"
   ]
  },
  {
   "cell_type": "markdown",
   "metadata": {},
   "source": [
    "## Ejercicio 9\n",
    "Define en una única celda las siguientes funciones:\n",
    "* Función que calcule el área de un cuadrado\n",
    "* Función que calcule el area de un triángulo\n",
    "* Función que calcule el área de un círculo\n",
    "\n",
    "En otra celda, calcular el area de:\n",
    "* Dos círculos de radio 10 + un triángulo de base 3 y altura 7\n",
    "* Un cuadrado de lado = 10 + 3 círculos (uno de radio = 4 y los otros dos de radio = 6) + 5 triángulos de base = 2 + altura = 4"
   ]
  },
  {
   "cell_type": "code",
   "execution_count": 138,
   "metadata": {},
   "outputs": [],
   "source": [
    "import math"
   ]
  },
  {
   "cell_type": "code",
   "execution_count": 140,
   "metadata": {},
   "outputs": [],
   "source": [
    "def cuadrado(l):\n",
    "    return l*l\n",
    "\n",
    "def triangulo(b,a):\n",
    "    return b*a/2\n",
    "\n",
    "def circulo(r):\n",
    "    return math.pi * r ** 2"
   ]
  },
  {
   "cell_type": "code",
   "execution_count": 143,
   "metadata": {},
   "outputs": [
    {
     "name": "stdout",
     "output_type": "stream",
     "text": [
      "Area 1 638.8185307179587\n",
      "Area 2 396.46015351590177\n"
     ]
    }
   ],
   "source": [
    "print(\"Area 1\", 2 * circulo(10) + triangulo(3,7))\n",
    "print(\"Area 2\", cuadrado(10) + circulo(4) + 2 * circulo(6) + 5 * triangulo(2,4))"
   ]
  }
 ],
 "metadata": {
  "kernelspec": {
   "display_name": "Python 3.7.4 64-bit",
   "language": "python",
   "name": "python3"
  },
  "language_info": {
   "codemirror_mode": {
    "name": "ipython",
    "version": 3
   },
   "file_extension": ".py",
   "mimetype": "text/x-python",
   "name": "python",
   "nbconvert_exporter": "python",
   "pygments_lexer": "ipython3",
   "version": "3.7.4"
  },
  "vscode": {
   "interpreter": {
    "hash": "90139cb9a825bf3d63f6f6704e828dbd1ff7edbd4d0c6e906a71235d6efc74af"
   }
  }
 },
 "nbformat": 4,
 "nbformat_minor": 4
}
