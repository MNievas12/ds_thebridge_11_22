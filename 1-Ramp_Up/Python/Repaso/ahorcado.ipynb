{
 "cells": [
  {
   "cell_type": "markdown",
   "metadata": {},
   "source": [
    "## Juego del Ahorcado\n",
    "El funcionamiento es que vaya mostrando por pantalla ```_ _ _ _ _``` las rayas bajas correspondientes al número de letras que tiene la palabra a adivinar. El usuario deberá insertar una letra y, si esa letra existe, se mostrará o mostrarán las letras acertadas ```S _ S _ _```. \n",
    "\n",
    "Si falla, se mostrará el número de errores que lleva y, si lleva 6 errores, entonces se mostrará \"Fin del juego\".\n",
    "Encapsúlalo en una función."
   ]
  },
  {
   "cell_type": "code",
   "execution_count": 23,
   "metadata": {},
   "outputs": [
    {
     "name": "stdout",
     "output_type": "stream",
     "text": [
      "BOOTCAMP\n",
      "_ _ _ _ _ _ _ _\n"
     ]
    }
   ],
   "source": [
    "p_adivinar = \"bootcamp\".upper()\n",
    "print(p_adivinar)\n",
    "p_oculta = list(\"_\" * len(p_adivinar))\n",
    "print(*p_oculta)"
   ]
  },
  {
   "cell_type": "code",
   "execution_count": 24,
   "metadata": {},
   "outputs": [
    {
     "name": "stdout",
     "output_type": "stream",
     "text": [
      "_ _ _ _ _ _ _ _\n",
      "Has acertado\n",
      "B _ _ _ _ _ _ _\n",
      "Has acertado\n",
      "B O O _ _ _ _ _\n",
      "Has acertado\n",
      "B O O T _ _ _ _\n",
      "Has acertado\n",
      "B O O T C _ _ _\n",
      "Has acertado\n",
      "B O O T C A _ _\n",
      "Has acertado\n",
      "B O O T C A M _\n",
      "Has acertado\n",
      "B O O T C A M P Has ganado!\n"
     ]
    }
   ],
   "source": [
    "vidas = 6\n",
    "\n",
    "while vidas > 0 and \"_\" in p_oculta:\n",
    "\n",
    "    print(*p_oculta)\n",
    "    letra = input(\"Introduce la letra a adivinar\").upper()\n",
    "    if letra == \"EXIT\":\n",
    "        break\n",
    "\n",
    "    if letra in p_adivinar:\n",
    "        print(\"Has acertado\")\n",
    "        for pos, letra_p in enumerate(p_adivinar):\n",
    "            if letra == letra_p:\n",
    "                p_oculta[pos] = letra\n",
    "\n",
    "    else:\n",
    "        vidas = vidas - 1\n",
    "        print(\"Has fallado, te quedan\", vidas, \"vidas\")\n",
    "\n",
    "    if \"_\" not in p_oculta:\n",
    "        print(*p_oculta, \"Has ganado!\")\n",
    "    \n"
   ]
  },
  {
   "cell_type": "code",
   "execution_count": 12,
   "metadata": {},
   "outputs": [
    {
     "name": "stdout",
     "output_type": "stream",
     "text": [
      "0 B\n",
      "1 O\n",
      "2 O\n",
      "3 T\n",
      "4 C\n",
      "5 A\n",
      "6 M\n",
      "7 P\n",
      "_ O O _ _ _ _ _\n"
     ]
    }
   ],
   "source": [
    "for pos, letra_p in enumerate(p_adivinar):\n",
    "    print(pos, letra_p)\n",
    "    if letra == letra_p:\n",
    "        p_oculta[pos] = letra\n",
    "print(*p_oculta)"
   ]
  },
  {
   "cell_type": "code",
   "execution_count": 25,
   "metadata": {},
   "outputs": [],
   "source": [
    "def jugar_ahorcado(palabra, vidas):\n",
    "    \n",
    "    p_adivinar = palabra.upper()\n",
    "    p_oculta = list(\"_\" * len(p_adivinar))\n",
    "\n",
    "    while vidas > 0 and \"_\" in p_oculta:\n",
    "\n",
    "        print(*p_oculta)\n",
    "        letra = input(\"Introduce la letra a adivinar\").upper()\n",
    "        if letra == \"EXIT\":\n",
    "            break\n",
    "\n",
    "        if letra in p_adivinar:\n",
    "            print(\"Has acertado\")\n",
    "            for pos, letra_p in enumerate(p_adivinar):\n",
    "                if letra == letra_p:\n",
    "                    p_oculta[pos] = letra\n",
    "\n",
    "        else:\n",
    "            vidas = vidas - 1\n",
    "            print(\"Has fallado, te quedan\", vidas, \"vidas\")\n",
    "\n",
    "        if \"_\" not in p_oculta:\n",
    "            print(*p_oculta, \"Has ganado!\")"
   ]
  },
  {
   "cell_type": "code",
   "execution_count": 26,
   "metadata": {},
   "outputs": [
    {
     "name": "stdout",
     "output_type": "stream",
     "text": [
      "_ _ _ _ _ _ _ _\n",
      "Has acertado\n",
      "B _ _ _ _ _ _ _\n",
      "Has fallado, te quedan 5 vidas\n",
      "B _ _ _ _ _ _ _\n",
      "Has acertado\n",
      "B O O _ _ _ _ _\n",
      "Has acertado\n",
      "B O O _ _ _ _ _\n",
      "Has acertado\n",
      "B O O T _ _ _ _\n",
      "Has acertado\n",
      "B O O T _ _ _ _\n",
      "Has acertado\n",
      "B O O T C _ _ _\n",
      "Has acertado\n",
      "B O O T C A _ _\n",
      "Has acertado\n",
      "B O O T C A M _\n",
      "Has acertado\n",
      "B O O T C A M P Has ganado!\n"
     ]
    }
   ],
   "source": [
    "jugar_ahorcado(\"bootcamp\", 6)"
   ]
  },
  {
   "cell_type": "code",
   "execution_count": 27,
   "metadata": {},
   "outputs": [
    {
     "name": "stdout",
     "output_type": "stream",
     "text": [
      "_ _ _ _ _ _ _\n",
      "Has acertado\n",
      "_ _ _ _ _ _ O\n",
      "Has acertado\n",
      "_ _ _ _ _ _ O\n",
      "Has acertado\n",
      "_ _ _ T _ _ O\n",
      "Has fallado, te quedan 2 vidas\n",
      "_ _ _ T _ _ O\n",
      "Has acertado\n",
      "_ _ _ T _ _ O\n",
      "Has acertado\n",
      "_ _ A T A _ O\n",
      "Has acertado\n",
      "P _ A T A _ O\n",
      "Has acertado\n",
      "P L A T A _ O\n",
      "Has acertado\n",
      "P L A T A N O Has ganado!\n"
     ]
    }
   ],
   "source": [
    "jugar_ahorcado(\"platano\", 3)"
   ]
  }
 ],
 "metadata": {
  "kernelspec": {
   "display_name": "Python 3.7.4 64-bit",
   "language": "python",
   "name": "python3"
  },
  "language_info": {
   "codemirror_mode": {
    "name": "ipython",
    "version": 3
   },
   "file_extension": ".py",
   "mimetype": "text/x-python",
   "name": "python",
   "nbconvert_exporter": "python",
   "pygments_lexer": "ipython3",
   "version": "3.7.4"
  },
  "orig_nbformat": 4,
  "vscode": {
   "interpreter": {
    "hash": "90139cb9a825bf3d63f6f6704e828dbd1ff7edbd4d0c6e906a71235d6efc74af"
   }
  }
 },
 "nbformat": 4,
 "nbformat_minor": 2
}
