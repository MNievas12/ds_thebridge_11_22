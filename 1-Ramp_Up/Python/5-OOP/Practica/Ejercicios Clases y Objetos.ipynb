{
 "cells": [
  {
   "cell_type": "markdown",
   "metadata": {},
   "source": [
    "![imagen](./img/ejercicios.png)\n",
    "\n",
    "# Ejercicios Clases y Objetos"
   ]
  },
  {
   "cell_type": "markdown",
   "metadata": {},
   "source": [
    "## Ejercicio 1\n",
    "Somos una empresa que tiene varias tiendas de electrodomesticos. Necesitamos un programa para manejar las tiendas, ver las ventas que han tenido, cuántos empleados hay, etc... Para ello vamos a modelizar la tienda en una clase, que tendrá las siguientes características:\n",
    "* Nombre clase: \"Tienda\"\n",
    "* Atributos comunes:\n",
    "    * Tipo: \"Electrodomésticos\"\n",
    "    * Abierta: True\n",
    "* Atributos propios de cada tienda:\n",
    "    * Nombre - String\n",
    "    * Dirección - String\n",
    "    * Número de empleados - int\n",
    "    * Ventas ultimos 3 meses - Lista de 3 numeros\n",
    "* Método para calcular las ventas de todos los meses, que devuelva un numero con todas las ventas.\n",
    "* Método que calcula la media de ventas de los últimos meses, por empleado\n",
    "* Método que devuelve en un string el nombre de la tienda, junto con su dirección.\n",
    "* Método que obtiene las ventas del último mes.\n",
    "* Método para dar una proyección de las ventas en caso de haber invertido X dinero en marketing en esa tienda. Siendo X el parámetro de entrada. Si X es menor de 1000, las ventas de los ultimos 3 meses hubiesen sido de (1.2 x ventas), si es mayor o igual de 1000, las ventas hubiesen sido de (1.5 x venta). El método reescribe el atributo de ventas en los últimos 3 meses, y además devuelve las ventas con el aumento.\n",
    "\n",
    "Se pide:\n",
    "1. Implementar la clase \"Tienda\"\n",
    "2. Crear tres tiendas con datos inventados\n",
    "3. Comprueba en al menos una de ellas, todo lo implementado en la clase tienda (sus atributos, media de ventas, ventas/empleado...)\n",
    "3. Calcular las ventas del último mes de todas las tiendas. Para ello usa el bucle `for`\n",
    "4. Imprime por pantalla los nombres de las tiendas cuya dirección lleve el string \"Avenida\"\n",
    "5. Seguro que ya has hecho este apartado... Documenta la clase :)"
   ]
  },
  {
   "cell_type": "code",
   "execution_count": 100,
   "metadata": {},
   "outputs": [],
   "source": [
    "class Tienda:\n",
    "    '''\n",
    "    Clase para gestionar las tiendas de una empresa\n",
    "\n",
    "    Attributes:\n",
    "        tipo(str) : Tipología de tienda\n",
    "        abierto(bool) : Estado de apertura\n",
    "    '''\n",
    "    tipo = \"Electrodomésticos\"\n",
    "    abierto = True\n",
    "\n",
    "    def __init__(self, nombre:str, dir:str, n_emp:int, ventas_3m:list):\n",
    "        '''\n",
    "        Atributos particulares de una tienda\n",
    "\n",
    "        Args:\n",
    "            nombre(str) : Nombre de la tienda\n",
    "            dir(str) : Dirección de la tienda\n",
    "            n_emp(int) : Nº de empleados de tienda\n",
    "            ventas_3m(list) : Ventas de los últimos 3 meses\n",
    "        '''\n",
    "        self.nombre = nombre\n",
    "        self.dir = dir\n",
    "        self.n_emp = n_emp\n",
    "        self.ventas_3m = ventas_3m\n",
    "\n",
    "    def ventas_totales(self):\n",
    "        '''\n",
    "        Calcula las ventas totales\n",
    "\n",
    "        Returns:\n",
    "            float\n",
    "        '''\n",
    "        return sum(self.ventas_3m)\n",
    "\n",
    "    def ventas_media(self):\n",
    "        '''\n",
    "        Calcula las ventas por empleado\n",
    "\n",
    "        Returns:\n",
    "            float\n",
    "        '''\n",
    "        return self.ventas_totales()/self.n_emp\n",
    "\n",
    "    def datos_tienda(self):\n",
    "        '''\n",
    "        Devuelve el nombre y dirección de la tienda\n",
    "\n",
    "        Returns:\n",
    "            str\n",
    "        '''\n",
    "        return self.nombre + ' ' + self.dir\n",
    "    \n",
    "    def ventas_ult(self):\n",
    "        '''\n",
    "        Devuelve las ventas del último mes\n",
    "\n",
    "        Returns:\n",
    "            float\n",
    "        '''\n",
    "        return float(self.ventas_3m[-1])\n",
    "\n",
    "    def inv_mark(self, x:float):\n",
    "        '''\n",
    "        Calcula las ventas estimadas en función a la inversión de marketing\n",
    "\n",
    "        Args:\n",
    "            x(float) : Inversión de marketing\n",
    "\n",
    "        Returns:\n",
    "            list\n",
    "        '''\n",
    "        if x < 1000:\n",
    "            self.ventas_3m = [x * 1.2 for x in self.ventas_3m] # List comprehension para calcular...\n",
    "        else:\n",
    "            self.ventas_3m = [x * 1.5 for x in self.ventas_3m]\n",
    "        return self.ventas_3m"
   ]
  },
  {
   "cell_type": "code",
   "execution_count": 106,
   "metadata": {},
   "outputs": [],
   "source": [
    "tienda_1 = Tienda(nombre = \"Madrid\", dir = \"Recoletos 15\", n_emp = 10, ventas_3m = [300,100,200])"
   ]
  },
  {
   "cell_type": "code",
   "execution_count": 102,
   "metadata": {},
   "outputs": [
    {
     "name": "stdout",
     "output_type": "stream",
     "text": [
      "Electrodomésticos\n",
      "True\n",
      "Madrid\n",
      "Recoletos 15\n",
      "10\n",
      "[300, 100, 200]\n"
     ]
    }
   ],
   "source": [
    "print(tienda_1.tipo)\n",
    "print(tienda_1.abierto)\n",
    "print(tienda_1.nombre)\n",
    "print(tienda_1.dir)\n",
    "print(tienda_1.n_emp)\n",
    "print(tienda_1.ventas_3m)"
   ]
  },
  {
   "cell_type": "code",
   "execution_count": 103,
   "metadata": {},
   "outputs": [
    {
     "name": "stdout",
     "output_type": "stream",
     "text": [
      "600\n",
      "60.0\n",
      "Madrid Recoletos 15\n",
      "200.0\n",
      "[450.0, 150.0, 300.0]\n"
     ]
    }
   ],
   "source": [
    "print(tienda_1.ventas_totales())\n",
    "print(tienda_1.ventas_media())\n",
    "print(tienda_1.datos_tienda())\n",
    "print(tienda_1.ventas_ult())\n",
    "print(tienda_1.inv_mark(1500))"
   ]
  },
  {
   "cell_type": "code",
   "execution_count": 76,
   "metadata": {},
   "outputs": [
    {
     "name": "stdout",
     "output_type": "stream",
     "text": [
      "[450.0, 150.0, 300.0]\n"
     ]
    }
   ],
   "source": [
    "print(tienda_1.ventas_3m)"
   ]
  },
  {
   "cell_type": "code",
   "execution_count": 95,
   "metadata": {},
   "outputs": [],
   "source": [
    "tienda_2 = Tienda(\"Barcelona\", \"Diagonal\", 8, [300,150,250])\n",
    "tienda_3 = Tienda(\"Valencia\", \"Avenida 123\", 6, [100,150,250])"
   ]
  },
  {
   "cell_type": "code",
   "execution_count": 96,
   "metadata": {},
   "outputs": [
    {
     "name": "stdout",
     "output_type": "stream",
     "text": [
      "900.0\n",
      "700\n",
      "500\n"
     ]
    }
   ],
   "source": [
    "print(tienda_1.ventas_totales())\n",
    "print(tienda_2.ventas_totales())\n",
    "print(tienda_3.ventas_totales())"
   ]
  },
  {
   "cell_type": "code",
   "execution_count": 97,
   "metadata": {},
   "outputs": [
    {
     "name": "stdout",
     "output_type": "stream",
     "text": [
      "300.0\n",
      "250\n",
      "250\n"
     ]
    }
   ],
   "source": [
    "tiendas = [tienda_1, tienda_2, tienda_3]\n",
    "\n",
    "for tienda in tiendas:\n",
    "    print(tienda.ventas_ult())"
   ]
  },
  {
   "cell_type": "code",
   "execution_count": 98,
   "metadata": {},
   "outputs": [
    {
     "name": "stdout",
     "output_type": "stream",
     "text": [
      "Valencia\n"
     ]
    }
   ],
   "source": [
    "for tienda in tiendas:\n",
    "    if \"Avenida\" in tienda.dir:\n",
    "        print(tienda.nombre)"
   ]
  },
  {
   "cell_type": "markdown",
   "metadata": {},
   "source": [
    "## Ejercicio 2\n",
    "En este ejercicio vamos a implementar una clase *Perro* en Python. La clase tiene las siguientes características:\n",
    "* Cosas que sabemos seguro que tiene un perro\n",
    "    * Tiene 4 patas\n",
    "    * 2 orejas\n",
    "    * 2 ojos\n",
    "    * Una velocidad de 0. Por defecto, el perro está parado\n",
    "* Cuando se inicialice:\n",
    "    * El perro será de una determinada raza\n",
    "    * Por defecto tendrá pelo \"Marrón\", a no ser que se diga lo contrario.\n",
    "    * Por defecto no tendrá dueño, a no ser que se diga lo contrario.\n",
    "    \n",
    "* Dispondrá también de un método llamado andar, que tiene un argumento de entrada (aumento_velocidad). Este valor se le sumará a la velocidad que ya llevaba el perro.\n",
    "* Necesita otro método (parar), donde pondremos la velocidad a 0.\n",
    "* Otro método llamado \"ladrar\", que tendrá un argumento de entrada, y la salida será el siguiente string: \"GUAU!\" + el argumento de entrada.\n",
    "\n",
    "\n",
    "Se pide:\n",
    "* Implementa la clase *Perro*\n",
    "* Crea un objeto de tipo *Perro*, sin dueño\n",
    "* Comprueba que están bien todos sus atributos\n",
    "* Prueba que ande, y comprueba su velocidad\n",
    "* Páralo\n",
    "* Documenta la clase *Perro*"
   ]
  },
  {
   "cell_type": "code",
   "execution_count": 127,
   "metadata": {},
   "outputs": [],
   "source": [
    "class Perro:\n",
    "    ''' \n",
    "    Clase de perro ejemplo\n",
    "\n",
    "    Atributos:\n",
    "        patas(int) : 4\n",
    "        ojos(int) : 2\n",
    "        ojos(int) : 2\n",
    "        velocidad(float) : 0\n",
    "    '''\n",
    "\n",
    "    patas = 4\n",
    "    ojos = 2\n",
    "    orejas = 2\n",
    "    velocidad = 0\n",
    "\n",
    "    def __init__(self, raza, pelo=\"Marrón\", dueño:bool=False):\n",
    "        ''' \n",
    "        Atributos particulares de perro\n",
    "\n",
    "        Atributos:\n",
    "            raza(str)\n",
    "            pelo(str) : \"Marrón\"\n",
    "            dueño(bool) : False\n",
    "        '''\n",
    "        self.raza = raza\n",
    "        self.pelo = pelo\n",
    "        self.dueño = dueño\n",
    "\n",
    "    def andar(self, aumento_velocidad):\n",
    "        '''\n",
    "        Método para que el perro ande a una velocidad\n",
    "\n",
    "        Input:\n",
    "            aumento_velocidad(float)\n",
    "\n",
    "        Output:\n",
    "            str\n",
    "        '''\n",
    "        self.velocidad = self.velocidad + aumento_velocidad\n",
    "        return \"El perro está andando a esta velocidad \" + str(self.velocidad)\n",
    "\n",
    "    def parar(self):\n",
    "        '''\n",
    "        Método para que el perro pare de andar\n",
    "\n",
    "        Output:\n",
    "            str\n",
    "        '''\n",
    "        self.velocidad = 0\n",
    "        return \"El perro está parado y por lo tanto lleva velocidad \" + str(self.velocidad)\n",
    "\n",
    "    def ladrar(self, mensaje):\n",
    "        '''\n",
    "        Método para que el perro salude con un mensaje\n",
    "\n",
    "        Input:\n",
    "            mensaje(str)\n",
    "\n",
    "        Output:\n",
    "            str\n",
    "        '''\n",
    "        return \"GUAU!\" + mensaje\n",
    "\n",
    "    "
   ]
  },
  {
   "cell_type": "code",
   "execution_count": 121,
   "metadata": {},
   "outputs": [],
   "source": [
    "caniche = Perro(\"Caniche\", pelo = \"Blanco\")"
   ]
  },
  {
   "cell_type": "code",
   "execution_count": 126,
   "metadata": {},
   "outputs": [
    {
     "name": "stdout",
     "output_type": "stream",
     "text": [
      "4\n",
      "2\n",
      "2\n",
      "0\n",
      "{'raza': 'Caniche', 'pelo': 'Blanco', 'dueño': False, 'velocidad': 0}\n"
     ]
    }
   ],
   "source": [
    "print(caniche.patas)\n",
    "print(caniche.ojos)\n",
    "print(caniche.orejas)\n",
    "print(caniche.velocidad)\n",
    "print(caniche.__dict__)"
   ]
  },
  {
   "cell_type": "code",
   "execution_count": 122,
   "metadata": {},
   "outputs": [
    {
     "name": "stdout",
     "output_type": "stream",
     "text": [
      "0\n",
      "El perro está andando a esta velocidad 5\n",
      "5\n"
     ]
    }
   ],
   "source": [
    "print(caniche.velocidad)\n",
    "print(caniche.andar(5))\n",
    "print(caniche.velocidad)"
   ]
  },
  {
   "cell_type": "code",
   "execution_count": 123,
   "metadata": {},
   "outputs": [
    {
     "name": "stdout",
     "output_type": "stream",
     "text": [
      "El perro está parado y por lo tanto lleva velocidad 0\n",
      "0\n"
     ]
    }
   ],
   "source": [
    "print(caniche.parar())\n",
    "print(caniche.velocidad)"
   ]
  },
  {
   "cell_type": "code",
   "execution_count": 124,
   "metadata": {},
   "outputs": [
    {
     "name": "stdout",
     "output_type": "stream",
     "text": [
      "GUAU!Hola bootcamp\n"
     ]
    }
   ],
   "source": [
    "print(caniche.ladrar(\"Hola bootcamp\"))"
   ]
  }
 ],
 "metadata": {
  "kernelspec": {
   "display_name": "Python 3.7.4 64-bit",
   "language": "python",
   "name": "python3"
  },
  "language_info": {
   "codemirror_mode": {
    "name": "ipython",
    "version": 3
   },
   "file_extension": ".py",
   "mimetype": "text/x-python",
   "name": "python",
   "nbconvert_exporter": "python",
   "pygments_lexer": "ipython3",
   "version": "3.7.4"
  },
  "vscode": {
   "interpreter": {
    "hash": "90139cb9a825bf3d63f6f6704e828dbd1ff7edbd4d0c6e906a71235d6efc74af"
   }
  }
 },
 "nbformat": 4,
 "nbformat_minor": 4
}
